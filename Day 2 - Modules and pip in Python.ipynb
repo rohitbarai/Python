{
 "cells": [
  {
   "cell_type": "markdown",
   "id": "9f158b93",
   "metadata": {},
   "source": [
    "## Day 2 - Modules and pip in Python!\n",
    "**Module is like a code library which can be used to borrow code written by somebody else in our python program. There are two types of modules in python:**\n",
    "\n",
    "**Built in Modules - These modules are ready to import and use and ships with the python interpreter. there is no need to install such modules explicitly**\n",
    "\n",
    "**External Modules - These modules are imported from a third party file or can be installed using a package manager like pip or conda. Since this code is written by someone else, we can install different versions of a same module with time.**\n",
    "\n",
    "## The pip command\n",
    "**It can be used as a package manager pip to install a python module. Lets install a module called pandas using the following command**\n",
    "\n",
    "**pip install pandas**\n",
    "\n",
    "## Using a module in Python (Usage)\n",
    "**We use the import syntax to import a module in Python. Here is an example code:**\n",
    "\n",
    "**import pandas**\n",
    "\n",
    "**Read and work with a file named 'words.csv'**\n",
    "\n",
    "**df = pandas.read_csv('words.csv')**\n",
    "\n",
    "**print(df) # This will display first few rows from the words.csv file**\n",
    "\n",
    "**Similarly we can install other modules and look into their documentations for usage instructions.We will find ourselved doing this often in the later part of this course**"
   ]
  },
  {
   "cell_type": "code",
   "execution_count": null,
   "id": "79017544",
   "metadata": {},
   "outputs": [],
   "source": []
  }
 ],
 "metadata": {
  "kernelspec": {
   "display_name": "Python 3 (ipykernel)",
   "language": "python",
   "name": "python3"
  },
  "language_info": {
   "codemirror_mode": {
    "name": "ipython",
    "version": 3
   },
   "file_extension": ".py",
   "mimetype": "text/x-python",
   "name": "python",
   "nbconvert_exporter": "python",
   "pygments_lexer": "ipython3",
   "version": "3.9.12"
  }
 },
 "nbformat": 4,
 "nbformat_minor": 5
}
