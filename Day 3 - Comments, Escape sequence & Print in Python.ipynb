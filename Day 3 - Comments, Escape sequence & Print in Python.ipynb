{
 "cells": [
  {
   "cell_type": "markdown",
   "id": "ff4a7178",
   "metadata": {},
   "source": [
    "# Python Comments  ctrl + /\n",
    "\n",
    "**A comment is a part of the coding file that the programmer does not want to execute, rather the programmer uses it to either explain a block of code or to avoid the execution of a specific part of code while testing**."
   ]
  },
  {
   "cell_type": "code",
   "execution_count": 1,
   "id": "c3f78337",
   "metadata": {},
   "outputs": [
    {
     "name": "stdout",
     "output_type": "stream",
     "text": [
      "This is a print statement.\n"
     ]
    }
   ],
   "source": [
    "#This is a 'Single-Line Comment' ctrl + /\n",
    "print(\"This is a print statement.\")  "
   ]
  },
  {
   "cell_type": "code",
   "execution_count": 2,
   "id": "d2845a60",
   "metadata": {},
   "outputs": [
    {
     "name": "stdout",
     "output_type": "stream",
     "text": [
      "Hello World !!!\n"
     ]
    }
   ],
   "source": [
    "print(\"Hello World !!!\") #Printing Hello World"
   ]
  },
  {
   "cell_type": "code",
   "execution_count": 3,
   "id": "7c35628b",
   "metadata": {},
   "outputs": [
    {
     "name": "stdout",
     "output_type": "stream",
     "text": [
      "Python Program\n"
     ]
    }
   ],
   "source": [
    "print(\"Python Program\")\n",
    "#print(\"Python Program\")"
   ]
  },
  {
   "cell_type": "markdown",
   "id": "81380f6e",
   "metadata": {},
   "source": [
    "**Escape sequence \\n** "
   ]
  },
  {
   "cell_type": "code",
   "execution_count": 4,
   "id": "bab65835",
   "metadata": {},
   "outputs": [
    {
     "name": "stdout",
     "output_type": "stream",
     "text": [
      "Hey I am \"good boy\"\n",
      "and this viwer is also a good boy/girl\n"
     ]
    }
   ],
   "source": [
    "print(\"Hey I am \\\"good boy\\\"\\nand this viwer is also a good boy/girl\")"
   ]
  },
  {
   "cell_type": "markdown",
   "id": "531179a5",
   "metadata": {},
   "source": [
    "**Multi-Line Comments:**"
   ]
  },
  {
   "cell_type": "markdown",
   "id": "c046d334",
   "metadata": {},
   "source": [
    "To write multi-line comments you can use ‘#’ at each line or you can use the multiline string."
   ]
  },
  {
   "cell_type": "code",
   "execution_count": 5,
   "id": "9a3b0f25",
   "metadata": {},
   "outputs": [
    {
     "name": "stdout",
     "output_type": "stream",
     "text": [
      "p is greater than 5.\n"
     ]
    }
   ],
   "source": [
    "#It will execute a block of code if a specified condition is true.\n",
    "#If the condition is false then it will execute another block of code.\n",
    "p = 7\n",
    "if (p > 5):\n",
    "    print(\"p is greater than 5.\")\n",
    "else:\n",
    "    print(\"p is not greater than 5.\")"
   ]
  },
  {
   "cell_type": "markdown",
   "id": "661bf561",
   "metadata": {},
   "source": [
    "**The use of multiline string.**"
   ]
  },
  {
   "cell_type": "code",
   "execution_count": 6,
   "id": "d4315865",
   "metadata": {},
   "outputs": [
    {
     "name": "stdout",
     "output_type": "stream",
     "text": [
      "p is greater than 5.\n"
     ]
    }
   ],
   "source": [
    "\"\"\"This is an if-else statement.\n",
    "It will execute a block of code if a specified condition is true.\n",
    "If the condition is false then it will execute another block of code.\"\"\"\n",
    "p = 7\n",
    "if (p > 5):\n",
    "    print(\"p is greater than 5.\")\n",
    "else:\n",
    "    print(\"p is not greater than 5.\")"
   ]
  },
  {
   "cell_type": "markdown",
   "id": "9dec47da",
   "metadata": {},
   "source": [
    "# Escape Sequence Characters\n",
    "\n",
    "To insert characters that cannot be directly used in a string, we use an escape sequence character.\n",
    "\n",
    "An escape sequence character is a backslash \\ followed by the character you want to insert.\n",
    "\n",
    "An example of a character that cannot be directly used in a string is a double quote inside a string that is surrounded by double quotes:"
   ]
  },
  {
   "cell_type": "code",
   "execution_count": 7,
   "id": "b4e2ab0c",
   "metadata": {},
   "outputs": [
    {
     "ename": "SyntaxError",
     "evalue": "invalid syntax (3939686779.py, line 1)",
     "output_type": "error",
     "traceback": [
      "\u001b[1;36m  Input \u001b[1;32mIn [7]\u001b[1;36m\u001b[0m\n\u001b[1;33m    print(\"This doesnt \"execute\")\u001b[0m\n\u001b[1;37m                        ^\u001b[0m\n\u001b[1;31mSyntaxError\u001b[0m\u001b[1;31m:\u001b[0m invalid syntax\n"
     ]
    }
   ],
   "source": [
    "print(\"This doesnt \"execute\")\n",
    "print(\"This will \\\" execute\")"
   ]
  },
  {
   "cell_type": "markdown",
   "id": "78230386",
   "metadata": {},
   "source": [
    "# More on Print statement\n",
    "The syntax of a print statement looks something like this:\n",
    "\n",
    "**print(object(s), sep=separator, end=end, file=file, flush=flush)**"
   ]
  },
  {
   "cell_type": "markdown",
   "id": "6667fc70",
   "metadata": {},
   "source": [
    "# Other Parameters of Print Statement\n",
    "1. object(s): Any object, and as many as you like. Will be converted to string before printed\n",
    "\n",
    "2. sep='separator': Specify how to separate the objects, if there is more than one. Default is ' '\n",
    "\n",
    "3. end='end': Specify what to print at the end. Default is '\\n' (line feed)\n",
    "\n",
    "4. file: An object with a write method. Default is sys.stdout"
   ]
  },
  {
   "cell_type": "code",
   "execution_count": null,
   "id": "c36df9fc",
   "metadata": {},
   "outputs": [],
   "source": []
  }
 ],
 "metadata": {
  "kernelspec": {
   "display_name": "Python 3 (ipykernel)",
   "language": "python",
   "name": "python3"
  },
  "language_info": {
   "codemirror_mode": {
    "name": "ipython",
    "version": 3
   },
   "file_extension": ".py",
   "mimetype": "text/x-python",
   "name": "python",
   "nbconvert_exporter": "python",
   "pygments_lexer": "ipython3",
   "version": "3.9.12"
  }
 },
 "nbformat": 4,
 "nbformat_minor": 5
}
