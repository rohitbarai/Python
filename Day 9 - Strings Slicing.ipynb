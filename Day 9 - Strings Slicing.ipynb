{
 "cells": [
  {
   "cell_type": "markdown",
   "id": "51c3c910",
   "metadata": {},
   "source": [
    "# String Slicing & Operations on String"
   ]
  },
  {
   "cell_type": "markdown",
   "id": "68601c1c",
   "metadata": {},
   "source": [
    "### Length of a String\n",
    "We can find the length of a string using len() function."
   ]
  },
  {
   "cell_type": "code",
   "execution_count": 2,
   "id": "2bb292db",
   "metadata": {},
   "outputs": [
    {
     "name": "stdout",
     "output_type": "stream",
     "text": [
      "Mango is a 5 letter word.\n"
     ]
    }
   ],
   "source": [
    "fruit = \"Mango\"\n",
    "len1 = len(fruit)\n",
    "print(\"Mango is a\", len1, \"letter word.\")"
   ]
  },
  {
   "cell_type": "code",
   "execution_count": 4,
   "id": "fa4e369e",
   "metadata": {},
   "outputs": [
    {
     "name": "stdout",
     "output_type": "stream",
     "text": [
      "5\n"
     ]
    }
   ],
   "source": [
    "print(len(fruit))"
   ]
  },
  {
   "cell_type": "markdown",
   "id": "8fb6ff6f",
   "metadata": {},
   "source": [
    "# String as an array\n",
    "A string is essentially a sequence of characters also called an array. Thus we can access the elements of this array."
   ]
  },
  {
   "cell_type": "code",
   "execution_count": 5,
   "id": "8461504b",
   "metadata": {},
   "outputs": [
    {
     "name": "stdout",
     "output_type": "stream",
     "text": [
      "Apple\n",
      "i\n"
     ]
    }
   ],
   "source": [
    "#Example:\n",
    "pie = \"ApplePie\"\n",
    "print(pie[:5])\n",
    "print(pie[6])  #returns character at specified index"
   ]
  },
  {
   "cell_type": "markdown",
   "id": "5b190121",
   "metadata": {},
   "source": [
    " Note: This method of specifying the start and end index to specify a part of a string is called slicing."
   ]
  },
  {
   "cell_type": "code",
   "execution_count": 7,
   "id": "6a76c9f4",
   "metadata": {},
   "outputs": [
    {
     "name": "stdout",
     "output_type": "stream",
     "text": [
      "8\n",
      "Apple\n",
      "Pie\n",
      "pleP\n",
      "ApplePie\n",
      "Appl\n",
      "eP\n"
     ]
    }
   ],
   "source": [
    "pie = \"ApplePie\"\n",
    "print(len(pie))\n",
    "print(pie[:5])      #Slicing from Start\n",
    "print(pie[5:])      #Slicing till End\n",
    "print(pie[2:6])     #Slicing in between\n",
    "print(pie[-8:])     #Slicing using negative index\n",
    "print(pie[:len(pie)-4])\n",
    "print(pie[-4:-2])  #8-4 and 8-2 4:6"
   ]
  },
  {
   "cell_type": "markdown",
   "id": "cc88ee90",
   "metadata": {},
   "source": [
    "# Loop through a String:\n",
    "Strings are arrays and arrays are iterable. Thus we can loop through strings."
   ]
  },
  {
   "cell_type": "code",
   "execution_count": 7,
   "id": "2847d5a5",
   "metadata": {},
   "outputs": [
    {
     "name": "stdout",
     "output_type": "stream",
     "text": [
      "A\n",
      "B\n",
      "C\n",
      "D\n",
      "E\n"
     ]
    }
   ],
   "source": [
    "#Example:\n",
    "alphabets = \"ABCDE\"\n",
    "for i in alphabets:\n",
    "    print(i)"
   ]
  },
  {
   "cell_type": "code",
   "execution_count": 11,
   "id": "b166e9e4",
   "metadata": {},
   "outputs": [
    {
     "name": "stdout",
     "output_type": "stream",
     "text": [
      "5\n"
     ]
    }
   ],
   "source": [
    "a='Rohit'\n",
    "print(len(a))"
   ]
  },
  {
   "cell_type": "code",
   "execution_count": 12,
   "id": "bf1a4919",
   "metadata": {},
   "outputs": [
    {
     "name": "stdout",
     "output_type": "stream",
     "text": [
      "oh\n"
     ]
    }
   ],
   "source": [
    "print(a[-4:-2])"
   ]
  },
  {
   "cell_type": "code",
   "execution_count": null,
   "id": "38538875",
   "metadata": {},
   "outputs": [],
   "source": []
  }
 ],
 "metadata": {
  "kernelspec": {
   "display_name": "Python 3 (ipykernel)",
   "language": "python",
   "name": "python3"
  },
  "language_info": {
   "codemirror_mode": {
    "name": "ipython",
    "version": 3
   },
   "file_extension": ".py",
   "mimetype": "text/x-python",
   "name": "python",
   "nbconvert_exporter": "python",
   "pygments_lexer": "ipython3",
   "version": "3.9.12"
  }
 },
 "nbformat": 4,
 "nbformat_minor": 5
}
