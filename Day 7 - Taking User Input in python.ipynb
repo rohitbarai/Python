{
 "cells": [
  {
   "cell_type": "markdown",
   "id": "91ca1b9e",
   "metadata": {},
   "source": [
    "### In python, we can take user input directly by using input() function.This input function gives a return value as string/character hence we have to pass that into a variable"
   ]
  },
  {
   "cell_type": "code",
   "execution_count": 1,
   "id": "d41ed17c",
   "metadata": {},
   "outputs": [
    {
     "name": "stdout",
     "output_type": "stream",
     "text": [
      "1\n"
     ]
    }
   ],
   "source": [
    "#Syntax:\n",
    "variable=input()"
   ]
  },
  {
   "cell_type": "markdown",
   "id": "82697d94",
   "metadata": {},
   "source": [
    "**But input function returns the value as string. Hence we have to typecast them whenever required to another datatype.**"
   ]
  },
  {
   "cell_type": "code",
   "execution_count": 2,
   "id": "8fabfe9d",
   "metadata": {},
   "outputs": [
    {
     "name": "stdout",
     "output_type": "stream",
     "text": [
      "5\n",
      "5\n"
     ]
    }
   ],
   "source": [
    "#Example:\n",
    "variable=int(input())\n",
    "variable=float(input())"
   ]
  },
  {
   "cell_type": "markdown",
   "id": "767d963a",
   "metadata": {},
   "source": [
    "**We can also display a text using input function. This will make input() function take user input and display a message as well**"
   ]
  },
  {
   "cell_type": "code",
   "execution_count": 3,
   "id": "e3ef4b5d",
   "metadata": {},
   "outputs": [
    {
     "name": "stdout",
     "output_type": "stream",
     "text": [
      "Enter the name: ROHIT\n",
      "ROHIT\n"
     ]
    }
   ],
   "source": [
    "a=input(\"Enter the name: \")\n",
    "print(a)"
   ]
  },
  {
   "cell_type": "code",
   "execution_count": null,
   "id": "0c737bdb",
   "metadata": {},
   "outputs": [],
   "source": []
  }
 ],
 "metadata": {
  "kernelspec": {
   "display_name": "Python 3 (ipykernel)",
   "language": "python",
   "name": "python3"
  },
  "language_info": {
   "codemirror_mode": {
    "name": "ipython",
    "version": 3
   },
   "file_extension": ".py",
   "mimetype": "text/x-python",
   "name": "python",
   "nbconvert_exporter": "python",
   "pygments_lexer": "ipython3",
   "version": "3.9.12"
  }
 },
 "nbformat": 4,
 "nbformat_minor": 5
}
