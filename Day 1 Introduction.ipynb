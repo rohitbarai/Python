{
 "cells": [
  {
   "cell_type": "markdown",
   "id": "a1b12d95",
   "metadata": {},
   "source": [
    "# Day 1 - What is Programming and Python?\n",
    "**Programming is a way for us to tell computers what to do. Computer is a very dumb machine and it only does what we tell it to do. Hence we learn programming and tell computers to do what we are very slow at - computation. If I ask you to calculate 5+6, you will immediately say 11. How about 23453453 X 56456?**"
   ]
  },
  {
   "cell_type": "markdown",
   "id": "79f60af7",
   "metadata": {},
   "source": [
    "## What is Python?\n",
    "**Python is a dynamically typed, general purpose programming language that supports an object-oriented programming approach as well as a functional programming approach.Python is an interpreted and a high-level programming language.It was created by Guido Van Rossum in 1989.**"
   ]
  },
  {
   "cell_type": "markdown",
   "id": "52b8acb4",
   "metadata": {},
   "source": [
    "## Features of Python\n",
    "**Python is simple and easy to understand.**\n",
    "**It is Interpreted and platform-independent which makes debugging very easy.**\n",
    "**Python is an open-source programming language.**\n",
    "**Python provides very big library support. Some of the popular libraries include NumPy, Tensorflow, Selenium, OpenCV, etc.**\n",
    "**It is possible to integrate other programming languages within python.**\n"
   ]
  },
  {
   "cell_type": "markdown",
   "id": "7247d2db",
   "metadata": {},
   "source": [
    "## What is Python used for\n",
    "**Python is used in Data Visualization to create plots and graphical representations.**\n",
    "\n",
    "**Python helps in Data Analytics to analyze and understand raw data for insights and trends.**\n",
    "\n",
    "**It is used in AI and Machine Learning to simulate human behavior and to learn from past data without hard coding.**\n",
    "\n",
    "**It is used to create web applications.**\n",
    "\n",
    "**It can be used to handle databases.**\n",
    "\n",
    "**It is used in business and accounting to perform complex mathematical operations along with quantitative and qualitative analysis.**\n"
   ]
  },
  {
   "cell_type": "code",
   "execution_count": 3,
   "id": "c25860bf",
   "metadata": {},
   "outputs": [
    {
     "name": "stdout",
     "output_type": "stream",
     "text": [
      "Hellow World\n",
      "5\n"
     ]
    }
   ],
   "source": [
    "print(\"Hellow World\")\n",
    "print(5)"
   ]
  }
 ],
 "metadata": {
  "kernelspec": {
   "display_name": "Python 3 (ipykernel)",
   "language": "python",
   "name": "python3"
  },
  "language_info": {
   "codemirror_mode": {
    "name": "ipython",
    "version": 3
   },
   "file_extension": ".py",
   "mimetype": "text/x-python",
   "name": "python",
   "nbconvert_exporter": "python",
   "pygments_lexer": "ipython3",
   "version": "3.9.12"
  }
 },
 "nbformat": 4,
 "nbformat_minor": 5
}
