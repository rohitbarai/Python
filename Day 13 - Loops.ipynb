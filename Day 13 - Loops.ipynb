{
 "cells": [
  {
   "cell_type": "markdown",
   "id": "70fad891",
   "metadata": {},
   "source": [
    "# Introduction to Loops\n",
    "Sometimes a programmer wants to execute a group of statements a certain number of times. This can be done using loops. Based on this loops are further classified into following main types;\n",
    "\n",
    "- for loop\n",
    "- while loop"
   ]
  },
  {
   "cell_type": "markdown",
   "id": "6c6b7613",
   "metadata": {},
   "source": [
    "### The for Loop\n",
    "for loops can iterate over a sequence of iterable objects in python. Iterating over a sequence is nothing but iterating over strings, lists, tuples, sets and dictionaries."
   ]
  },
  {
   "cell_type": "code",
   "execution_count": 1,
   "id": "3f09874f",
   "metadata": {},
   "outputs": [
    {
     "name": "stdout",
     "output_type": "stream",
     "text": [
      "R, o, h, i, t, "
     ]
    }
   ],
   "source": [
    "#iterating over a string:\n",
    "\n",
    "name = 'Rohit'\n",
    "for i in name:\n",
    "    print(i, end=\", \")"
   ]
  },
  {
   "cell_type": "code",
   "execution_count": 2,
   "id": "1d5eec49",
   "metadata": {},
   "outputs": [
    {
     "name": "stdout",
     "output_type": "stream",
     "text": [
      "Red\n",
      "Green\n",
      "Blue\n",
      "Yellow\n"
     ]
    }
   ],
   "source": [
    "#iterating over a list\n",
    "\n",
    "colors = [\"Red\", \"Green\", \"Blue\", \"Yellow\"]\n",
    "for x in colors:\n",
    "    print(x)"
   ]
  },
  {
   "cell_type": "code",
   "execution_count": 3,
   "id": "1617d445",
   "metadata": {},
   "outputs": [
    {
     "name": "stdout",
     "output_type": "stream",
     "text": [
      "Red\n",
      "R\n",
      "e\n",
      "d\n",
      "Green\n",
      "G\n",
      "r\n",
      "e\n",
      "e\n",
      "n\n",
      "Blue\n",
      "B\n",
      "l\n",
      "u\n",
      "e\n",
      "Yellow\n",
      "Y\n",
      "e\n",
      "l\n",
      "l\n",
      "o\n",
      "w\n"
     ]
    }
   ],
   "source": [
    "colors = [\"Red\", \"Green\", \"Blue\", \"Yellow\"]\n",
    "for colors in colors:\n",
    "    print(colors)\n",
    "    for i in colors:\n",
    "        print(i)"
   ]
  },
  {
   "cell_type": "markdown",
   "id": "216030be",
   "metadata": {},
   "source": [
    "### range():\n",
    "What if we do not want to iterate over a sequence? What if we want to use for loop for a specific number of times?\n",
    "\n",
    "Here, we can use the range() function."
   ]
  },
  {
   "cell_type": "code",
   "execution_count": 4,
   "id": "ed235733",
   "metadata": {},
   "outputs": [
    {
     "name": "stdout",
     "output_type": "stream",
     "text": [
      "0\n",
      "1\n",
      "2\n",
      "3\n",
      "4\n"
     ]
    }
   ],
   "source": [
    "for k in range(5):\n",
    "    print(k)"
   ]
  },
  {
   "cell_type": "code",
   "execution_count": 5,
   "id": "dbb75161",
   "metadata": {},
   "outputs": [
    {
     "name": "stdout",
     "output_type": "stream",
     "text": [
      "1\n",
      "2\n",
      "3\n",
      "4\n",
      "5\n",
      "6\n",
      "7\n",
      "8\n"
     ]
    }
   ],
   "source": [
    "for k in range(1,9):\n",
    "    print(k)"
   ]
  },
  {
   "cell_type": "code",
   "execution_count": 6,
   "id": "5fd97ece",
   "metadata": {},
   "outputs": [
    {
     "name": "stdout",
     "output_type": "stream",
     "text": [
      "2 X  1 = 2\n",
      "2 X  2 = 4\n",
      "2 X  3 = 6\n",
      "2 X  4 = 8\n",
      "2 X  5 = 10\n",
      "2 X  6 = 12\n",
      "2 X  7 = 14\n",
      "2 X  8 = 16\n",
      "2 X  9 = 18\n",
      "2 X  10 = 20\n"
     ]
    }
   ],
   "source": [
    "for k in range(1,11):\n",
    "    print(\"2 X \",k,\"=\",2*k)"
   ]
  },
  {
   "cell_type": "code",
   "execution_count": 7,
   "id": "821009a1",
   "metadata": {},
   "outputs": [
    {
     "name": "stdout",
     "output_type": "stream",
     "text": [
      "2\n",
      "4\n",
      "6\n",
      "8\n",
      "10\n",
      "12\n",
      "14\n",
      "16\n",
      "18\n",
      "20\n"
     ]
    }
   ],
   "source": [
    "for k in range(1,11):\n",
    "    print(2*k)"
   ]
  },
  {
   "cell_type": "code",
   "execution_count": null,
   "id": "334a4427",
   "metadata": {},
   "outputs": [],
   "source": []
  }
 ],
 "metadata": {
  "kernelspec": {
   "display_name": "Python 3 (ipykernel)",
   "language": "python",
   "name": "python3"
  },
  "language_info": {
   "codemirror_mode": {
    "name": "ipython",
    "version": 3
   },
   "file_extension": ".py",
   "mimetype": "text/x-python",
   "name": "python",
   "nbconvert_exporter": "python",
   "pygments_lexer": "ipython3",
   "version": "3.9.12"
  }
 },
 "nbformat": 4,
 "nbformat_minor": 5
}
