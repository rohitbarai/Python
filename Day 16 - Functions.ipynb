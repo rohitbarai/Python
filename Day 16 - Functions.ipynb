{
 "cells": [
  {
   "cell_type": "markdown",
   "id": "d1f3e586",
   "metadata": {},
   "source": [
    "### Python Functions\n",
    "A function is a block of code that performs a specific task whenever it is called. In bigger programs, where we have large amounts of code, it is advisable to create or use existing functions that make the program flow organized and neat.\n",
    "\n",
    "There are two types of functions:\n",
    "\n",
    "- Built-in functions\n",
    "- User-defined functions"
   ]
  },
  {
   "cell_type": "markdown",
   "id": "508cf087",
   "metadata": {},
   "source": [
    "Built-in functions:\n",
    "- These functions are defined and pre-coded in python. Some examples of built-in functions are as follows:\n",
    "\n",
    "- min(), max(), len(), sum(), type(), range(), dict(), list(), tuple(), set(), print(), etc."
   ]
  },
  {
   "cell_type": "markdown",
   "id": "f684b56a",
   "metadata": {},
   "source": [
    "### User-defined functions:\n",
    "We can create functions to perform specific tasks as per our needs. Such functions are called user-defined functions."
   ]
  },
  {
   "cell_type": "code",
   "execution_count": 1,
   "id": "c2a0d6c3",
   "metadata": {},
   "outputs": [],
   "source": [
    "def function_name(parameters):\n",
    "    pass\n",
    "  # Code and Statements"
   ]
  },
  {
   "cell_type": "markdown",
   "id": "8c25ea1f",
   "metadata": {},
   "source": [
    "- Create a function using the def keyword, followed by a function name, followed by a paranthesis (()) and a colon(:).\n",
    "- Any parameters and arguments should be placed within the parentheses.\n",
    "- Rules to naming function are similar to that of naming variables.\n",
    "- Any statements and other code within the function should be indented."
   ]
  },
  {
   "cell_type": "markdown",
   "id": "a679fa7a",
   "metadata": {},
   "source": [
    "#### Calling a function:\n",
    "We call a function by giving the function name, followed by parameters (if any) in the parenthesis."
   ]
  },
  {
   "cell_type": "code",
   "execution_count": 4,
   "id": "e0654251",
   "metadata": {},
   "outputs": [
    {
     "name": "stdout",
     "output_type": "stream",
     "text": [
      "Hello, Sam Wilson\n"
     ]
    }
   ],
   "source": [
    "def name(fname, lname):\n",
    "    print(\"Hello,\", fname, lname)\n",
    "\n",
    "name(\"Sam\", \"Wilson\")"
   ]
  },
  {
   "cell_type": "code",
   "execution_count": 5,
   "id": "c4f8aa82",
   "metadata": {},
   "outputs": [
    {
     "name": "stdout",
     "output_type": "stream",
     "text": [
      "Hello, Rohit Barai\n"
     ]
    }
   ],
   "source": [
    "name(\"Rohit\",\"Barai\")"
   ]
  },
  {
   "cell_type": "code",
   "execution_count": 10,
   "id": "e5ff4f2c",
   "metadata": {},
   "outputs": [
    {
     "name": "stdout",
     "output_type": "stream",
     "text": [
      "Python\n"
     ]
    }
   ],
   "source": [
    "def showdata():\n",
    "    print(\"Python\")\n",
    "\n",
    "showdata()"
   ]
  },
  {
   "cell_type": "code",
   "execution_count": 20,
   "id": "8a9ed4ec",
   "metadata": {},
   "outputs": [],
   "source": [
    "#deafult value\n",
    "def sum(a,b=10):\n",
    "    print(a+b)"
   ]
  },
  {
   "cell_type": "code",
   "execution_count": 21,
   "id": "278634cb",
   "metadata": {},
   "outputs": [
    {
     "name": "stdout",
     "output_type": "stream",
     "text": [
      "30\n"
     ]
    }
   ],
   "source": [
    "sum(20)"
   ]
  },
  {
   "cell_type": "code",
   "execution_count": 22,
   "id": "7852c9c1",
   "metadata": {},
   "outputs": [],
   "source": [
    "#deafult value\n",
    "def sums(a,b):\n",
    "    print(a+b)"
   ]
  },
  {
   "cell_type": "code",
   "execution_count": 24,
   "id": "308901ab",
   "metadata": {},
   "outputs": [
    {
     "name": "stdout",
     "output_type": "stream",
     "text": [
      "15\n"
     ]
    }
   ],
   "source": [
    "sums(5,10)"
   ]
  },
  {
   "cell_type": "code",
   "execution_count": 33,
   "id": "0de5d965",
   "metadata": {},
   "outputs": [],
   "source": [
    "def calculatemean(a,b):\n",
    "    mean= (a+b)/(a*b)\n",
    "    print(mean)"
   ]
  },
  {
   "cell_type": "code",
   "execution_count": 34,
   "id": "12c80174",
   "metadata": {},
   "outputs": [
    {
     "name": "stdout",
     "output_type": "stream",
     "text": [
      "0.3\n"
     ]
    }
   ],
   "source": [
    "calculatemean(5,10)"
   ]
  },
  {
   "cell_type": "code",
   "execution_count": 35,
   "id": "f9b72e26",
   "metadata": {},
   "outputs": [],
   "source": [
    "a=10\n",
    "b=12"
   ]
  },
  {
   "cell_type": "code",
   "execution_count": 40,
   "id": "476f6464",
   "metadata": {},
   "outputs": [
    {
     "name": "stdout",
     "output_type": "stream",
     "text": [
      "First number is greater\n",
      "4.235294117647059\n",
      "Second number is greater or equal\n",
      "7.219512195121951\n"
     ]
    }
   ],
   "source": [
    "def calculatemean(a,b):\n",
    "    mean= (a+b)/(a*b)\n",
    "    print(mean)\n",
    "\n",
    "a=10\n",
    "b=12\n",
    "\n",
    "def isGreater(a, b):\n",
    "    if(a>b):\n",
    "        print(\"First number is greater\")\n",
    "    else:\n",
    "        print(\"Second number is greater or equal\")\n",
    "\n",
    "def isLesser(a, b):\n",
    "    pass\n",
    "\n",
    "a = 9\n",
    "b = 8\n",
    "isGreater(a, b)\n",
    "calculateGmean(a, b)\n",
    "\n",
    "c = 8\n",
    "d = 74\n",
    "isGreater(c, d)\n",
    "calculateGmean(c, d)"
   ]
  },
  {
   "cell_type": "code",
   "execution_count": null,
   "id": "305ba322",
   "metadata": {},
   "outputs": [],
   "source": [
    " "
   ]
  }
 ],
 "metadata": {
  "kernelspec": {
   "display_name": "Python 3 (ipykernel)",
   "language": "python",
   "name": "python3"
  },
  "language_info": {
   "codemirror_mode": {
    "name": "ipython",
    "version": 3
   },
   "file_extension": ".py",
   "mimetype": "text/x-python",
   "name": "python",
   "nbconvert_exporter": "python",
   "pygments_lexer": "ipython3",
   "version": "3.9.12"
  }
 },
 "nbformat": 4,
 "nbformat_minor": 5
}
