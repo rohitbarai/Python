{
 "cells": [
  {
   "cell_type": "code",
   "execution_count": 1,
   "id": "f436d071",
   "metadata": {},
   "outputs": [],
   "source": [
    "import time"
   ]
  },
  {
   "cell_type": "code",
   "execution_count": 2,
   "id": "a895db08",
   "metadata": {},
   "outputs": [
    {
     "name": "stdout",
     "output_type": "stream",
     "text": [
      "14:34:48\n",
      "14\n",
      "34\n",
      "48\n"
     ]
    }
   ],
   "source": [
    "timestamp = time.strftime('%H:%M:%S')\n",
    "print(timestamp)\n",
    "timestamp = time.strftime('%H')\n",
    "print(timestamp)\n",
    "timestamp = time.strftime('%M')\n",
    "print(timestamp)\n",
    "timestamp = time.strftime('%S')\n",
    "print(timestamp)"
   ]
  },
  {
   "cell_type": "code",
   "execution_count": 3,
   "id": "992867a8",
   "metadata": {},
   "outputs": [
    {
     "name": "stdout",
     "output_type": "stream",
     "text": [
      "Enter your name: Rohit\n",
      "Hello Rohit , Good Afternoon\n"
     ]
    }
   ],
   "source": [
    "str=input('Enter your name: ')\n",
    "hours = int(time.strftime('%H'))\n",
    "\n",
    "if(hours>=0 and hours<=11):\n",
    "    print(\"Hello\",str.capitalize(),\", Good Morning\") \n",
    "elif (hours>=12 and hours<=17): \n",
    "    print(\"Hello\",str.capitalize(),\", Good Afternoon\")\n",
    "else:\n",
    "    print(\"Hello\",str.capitalize(),\", Good Evening \")"
   ]
  },
  {
   "cell_type": "code",
   "execution_count": 5,
   "id": "6ab0b0bb",
   "metadata": {},
   "outputs": [
    {
     "name": "stdout",
     "output_type": "stream",
     "text": [
      "Enter your name: Rohit\n",
      "Hello Rohit ,Good afternoon\n"
     ]
    }
   ],
   "source": [
    "str=input('Enter your name: ')\n",
    "hour = int(time.strftime('%H'))\n",
    "\n",
    "if hour < 12:\n",
    "    print(\"Hello\",str,',Good Morning')\n",
    "elif hour < 18:\n",
    "    print(\"Hello\",str,\",Good afternoon\")\n",
    "else:\n",
    "    print (\"Hello\",str,\",|Good night\")\n"
   ]
  },
  {
   "cell_type": "code",
   "execution_count": null,
   "id": "782bbaa1",
   "metadata": {},
   "outputs": [],
   "source": []
  }
 ],
 "metadata": {
  "kernelspec": {
   "display_name": "Python 3 (ipykernel)",
   "language": "python",
   "name": "python3"
  },
  "language_info": {
   "codemirror_mode": {
    "name": "ipython",
    "version": 3
   },
   "file_extension": ".py",
   "mimetype": "text/x-python",
   "name": "python",
   "nbconvert_exporter": "python",
   "pygments_lexer": "ipython3",
   "version": "3.9.12"
  }
 },
 "nbformat": 4,
 "nbformat_minor": 5
}
