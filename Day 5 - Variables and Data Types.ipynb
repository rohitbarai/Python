{
 "cells": [
  {
   "cell_type": "markdown",
   "id": "a27d41d2",
   "metadata": {},
   "source": [
    "# What is a variable?\n",
    "**Variable is like a container that holds data. Very similar to how our containers in kitchen holds sugar, salt etc Creating a variable is like creating a placeholder in memory and assigning it some value. In Python its as easy as writing:**"
   ]
  },
  {
   "cell_type": "code",
   "execution_count": 1,
   "id": "9ceb2b59",
   "metadata": {},
   "outputs": [],
   "source": [
    "a = 1\n",
    "b = True\n",
    "c = \"Harry\"\n",
    "d = None"
   ]
  },
  {
   "cell_type": "markdown",
   "id": "c732a3b8",
   "metadata": {},
   "source": [
    "# What is a Data Type?"
   ]
  },
  {
   "cell_type": "markdown",
   "id": "56dfcf5a",
   "metadata": {},
   "source": [
    "**Data type specifies the type of value a variable holds. This is required in programming to do various operations without causing an error. In python, we can print the type of any operator using type function**"
   ]
  },
  {
   "cell_type": "code",
   "execution_count": 2,
   "id": "c76bfe25",
   "metadata": {},
   "outputs": [
    {
     "name": "stdout",
     "output_type": "stream",
     "text": [
      "<class 'int'>\n",
      "<class 'str'>\n"
     ]
    }
   ],
   "source": [
    "a = 1\n",
    "print(type(a))\n",
    "b = \"1\"\n",
    "print(type(b))"
   ]
  },
  {
   "cell_type": "markdown",
   "id": "69296b49",
   "metadata": {},
   "source": [
    "# 1. Numeric data: int, float, complex\n",
    "**int: 3, -8, 0**\n",
    "\n",
    "**float: 7.349, -9.0, 0.0000001**\n",
    "\n",
    "**complex: 6 + 2i**"
   ]
  },
  {
   "cell_type": "markdown",
   "id": "ae3a8e05",
   "metadata": {},
   "source": [
    "# 2. Text data: str\n",
    "**str: \"Hello World!!!\", \"Python Programming\"**"
   ]
  },
  {
   "cell_type": "markdown",
   "id": "faa52b3e",
   "metadata": {},
   "source": [
    "# 3. Boolean data:\n",
    "**Boolean data consists of values True or False.**"
   ]
  },
  {
   "cell_type": "markdown",
   "id": "41e935f8",
   "metadata": {},
   "source": [
    "# 4. Sequenced data: list, tuple\n",
    "**list: A list is an ordered collection of data with elements separated by a comma and enclosed within square brackets. Lists are mutable and can be modified after creation.**"
   ]
  },
  {
   "cell_type": "code",
   "execution_count": 3,
   "id": "4e095bc8",
   "metadata": {},
   "outputs": [
    {
     "name": "stdout",
     "output_type": "stream",
     "text": [
      "[8, 2.3, [-4, 5], ['apple', 'banana']]\n"
     ]
    }
   ],
   "source": [
    "list1 = [8, 2.3, [-4, 5], [\"apple\", \"banana\"]]\n",
    "print(list1)"
   ]
  },
  {
   "cell_type": "markdown",
   "id": "1bfe0c21",
   "metadata": {},
   "source": [
    "# Tuple\n",
    "**A tuple is an ordered collection of data with elements separated by a comma and enclosed within parentheses. Tuples are immutable and can not be modified after creation.**"
   ]
  },
  {
   "cell_type": "code",
   "execution_count": 4,
   "id": "28d507fb",
   "metadata": {},
   "outputs": [
    {
     "name": "stdout",
     "output_type": "stream",
     "text": [
      "(('parrot', 'sparrow'), ('Lion', 'Tiger'))\n"
     ]
    }
   ],
   "source": [
    "tuple1 = ((\"parrot\", \"sparrow\"), (\"Lion\", \"Tiger\"))\n",
    "print(tuple1)"
   ]
  },
  {
   "cell_type": "markdown",
   "id": "88b559a0",
   "metadata": {},
   "source": [
    "# Mapped data: dict\n",
    "**dict: A dictionary is an unordered collection of data containing a key:value pair. The key:value pairs are enclosed within curly brackets.**"
   ]
  },
  {
   "cell_type": "code",
   "execution_count": 5,
   "id": "42390ef3",
   "metadata": {},
   "outputs": [
    {
     "name": "stdout",
     "output_type": "stream",
     "text": [
      "{'name': 'Sakshi', 'age': 20, 'canVote': True}\n"
     ]
    }
   ],
   "source": [
    "dict1 = {\"name\":\"Sakshi\", \"age\":20, \"canVote\":True}\n",
    "print(dict1)"
   ]
  },
  {
   "cell_type": "code",
   "execution_count": null,
   "id": "8cc0b7df",
   "metadata": {},
   "outputs": [],
   "source": []
  }
 ],
 "metadata": {
  "kernelspec": {
   "display_name": "Python 3 (ipykernel)",
   "language": "python",
   "name": "python3"
  },
  "language_info": {
   "codemirror_mode": {
    "name": "ipython",
    "version": 3
   },
   "file_extension": ".py",
   "mimetype": "text/x-python",
   "name": "python",
   "nbconvert_exporter": "python",
   "pygments_lexer": "ipython3",
   "version": "3.9.12"
  }
 },
 "nbformat": 4,
 "nbformat_minor": 5
}
