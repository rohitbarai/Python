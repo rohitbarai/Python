{
 "cells": [
  {
   "cell_type": "markdown",
   "id": "0865cc98",
   "metadata": {},
   "source": [
    "# What are strings?\n",
    "In python, anything that you enclose between single or double quotation marks is considered a string. A string is essentially a sequence or array of textual data. Strings are used when working with Unicode characters."
   ]
  },
  {
   "cell_type": "code",
   "execution_count": 1,
   "id": "8997c456",
   "metadata": {},
   "outputs": [
    {
     "name": "stdout",
     "output_type": "stream",
     "text": [
      "Hello, ROHIT\n"
     ]
    }
   ],
   "source": [
    "name = \"ROHIT\"\n",
    "print(\"Hello, \" + name)"
   ]
  },
  {
   "cell_type": "markdown",
   "id": "10feec3f",
   "metadata": {},
   "source": [
    "Note: It does not matter whether you enclose your strings in single or double quotes, the output remains the same.\n",
    "\n",
    "Sometimes, the user might need to put quotation marks in between the strings. Example, consider the sentence: He said, “I want to eat an apple”.\n",
    "\n",
    "How will you print this statement in python?: He said, \"I want to eat an apple\". We will definitely use single quotes for our convenience"
   ]
  },
  {
   "cell_type": "code",
   "execution_count": 2,
   "id": "89b3b5ec",
   "metadata": {},
   "outputs": [
    {
     "name": "stdout",
     "output_type": "stream",
     "text": [
      "He said, \"I want to eat an apple\".\n"
     ]
    }
   ],
   "source": [
    "print('He said, \"I want to eat an apple\".')"
   ]
  },
  {
   "cell_type": "markdown",
   "id": "a8c01f2c",
   "metadata": {},
   "source": [
    "# Multiline Strings\n",
    "If our string has multiple lines, we can create them like this:"
   ]
  },
  {
   "cell_type": "code",
   "execution_count": 3,
   "id": "2097bb2a",
   "metadata": {},
   "outputs": [
    {
     "name": "stdout",
     "output_type": "stream",
     "text": [
      "Lorem ipsum dolor sit amet,\n",
      "consectetur adipiscing elit,\n",
      "sed do eiusmod tempor incididunt\n",
      "ut labore et dolore magna aliqua.\n"
     ]
    }
   ],
   "source": [
    "a = \"\"\"Lorem ipsum dolor sit amet,\n",
    "consectetur adipiscing elit,\n",
    "sed do eiusmod tempor incididunt\n",
    "ut labore et dolore magna aliqua.\"\"\"\n",
    "print(a)"
   ]
  },
  {
   "cell_type": "markdown",
   "id": "6bb0cf53",
   "metadata": {},
   "source": [
    "# Accessing Characters of a String\n",
    "In Python, string is like an array of characters. We can access parts of string by using its index which starts from 0.\n",
    "Square brackets can be used to access elements of the string."
   ]
  },
  {
   "cell_type": "code",
   "execution_count": 4,
   "id": "4287ceed",
   "metadata": {},
   "outputs": [
    {
     "name": "stdout",
     "output_type": "stream",
     "text": [
      "R\n",
      "O\n"
     ]
    }
   ],
   "source": [
    "print(name[0])\n",
    "print(name[1])"
   ]
  },
  {
   "cell_type": "markdown",
   "id": "e5d7d4ff",
   "metadata": {},
   "source": [
    "# Looping through the string\n",
    "We can loop through strings using a for loop like this:\n",
    "\n",
    "\n",
    "Copied!\n",
    "Above code prints all the characters in the string name one by one!"
   ]
  },
  {
   "cell_type": "code",
   "execution_count": 5,
   "id": "8fb83240",
   "metadata": {},
   "outputs": [
    {
     "name": "stdout",
     "output_type": "stream",
     "text": [
      "R\n",
      "O\n",
      "H\n",
      "I\n",
      "T\n"
     ]
    }
   ],
   "source": [
    "for character in name:\n",
    "    print(character)"
   ]
  }
 ],
 "metadata": {
  "kernelspec": {
   "display_name": "Python 3 (ipykernel)",
   "language": "python",
   "name": "python3"
  },
  "language_info": {
   "codemirror_mode": {
    "name": "ipython",
    "version": 3
   },
   "file_extension": ".py",
   "mimetype": "text/x-python",
   "name": "python",
   "nbconvert_exporter": "python",
   "pygments_lexer": "ipython3",
   "version": "3.9.12"
  }
 },
 "nbformat": 4,
 "nbformat_minor": 5
}
