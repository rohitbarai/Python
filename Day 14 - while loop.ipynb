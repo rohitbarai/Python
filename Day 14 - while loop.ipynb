{
 "cells": [
  {
   "cell_type": "markdown",
   "id": "3eeddb7a",
   "metadata": {},
   "source": [
    "# Python while Loop\n",
    "As the name suggests, while loops execute statements while the condition is True. As soon as the condition becomes False, the interpreter comes out of the while loop."
   ]
  },
  {
   "cell_type": "code",
   "execution_count": 1,
   "id": "179c71dc",
   "metadata": {},
   "outputs": [
    {
     "name": "stdout",
     "output_type": "stream",
     "text": [
      "5\n",
      "4\n",
      "3\n",
      "2\n",
      "1\n"
     ]
    }
   ],
   "source": [
    "count = 5\n",
    "while (count > 0):\n",
    "  print(count)\n",
    "  count = count - 1\n",
    "\n",
    "    \n",
    "#The count variable is set to 5 which decrements after each iteration. Depending upon the while loop condition, we need to either increment or decrement the counter variable (the variable count, in our case) or the loop will continue forever."
   ]
  },
  {
   "cell_type": "markdown",
   "id": "ce55125a",
   "metadata": {},
   "source": [
    "# Else with While Loop\n",
    "We can even use the else statement with the while loop. Essentially what the else statement does is that as soon as the while loop condition becomes False, the interpreter comes out of the while loop and the else statement is executed."
   ]
  },
  {
   "cell_type": "code",
   "execution_count": 2,
   "id": "20088fd1",
   "metadata": {},
   "outputs": [
    {
     "name": "stdout",
     "output_type": "stream",
     "text": [
      "5\n",
      "4\n",
      "3\n",
      "2\n",
      "1\n",
      "counter is 0\n"
     ]
    }
   ],
   "source": [
    "x = 5\n",
    "while (x > 0):\n",
    "    print(x)\n",
    "    x = x - 1\n",
    "else:\n",
    "    print('counter is 0')"
   ]
  },
  {
   "cell_type": "code",
   "execution_count": 3,
   "id": "8495688d",
   "metadata": {},
   "outputs": [
    {
     "name": "stdout",
     "output_type": "stream",
     "text": [
      "Enter the number: 1\n",
      "1\n",
      "Enter the number: 10\n",
      "10\n",
      "Enter the number: 35\n",
      "35\n",
      "Enter the number: 55\n",
      "55\n",
      "Done with the loop\n"
     ]
    }
   ],
   "source": [
    "i = int(input(\"Enter the number: \"))\n",
    "print(i)\n",
    "while(i<=38):\n",
    "  i = int(input(\"Enter the number: \"))\n",
    "  print(i)\n",
    "\n",
    "print(\"Done with the loop\")\n"
   ]
  },
  {
   "cell_type": "code",
   "execution_count": 4,
   "id": "5c102630",
   "metadata": {},
   "outputs": [
    {
     "name": "stdout",
     "output_type": "stream",
     "text": [
      "5\n"
     ]
    }
   ],
   "source": [
    "count = 5\n",
    "while (count > 0):\n",
    "    print(count)\n",
    "    count = count + 1\n",
    "    break"
   ]
  },
  {
   "cell_type": "code",
   "execution_count": null,
   "id": "d81c15a9",
   "metadata": {},
   "outputs": [],
   "source": []
  },
  {
   "cell_type": "code",
   "execution_count": null,
   "id": "49aa31fe",
   "metadata": {},
   "outputs": [],
   "source": []
  },
  {
   "cell_type": "code",
   "execution_count": null,
   "id": "6cf7c2e9",
   "metadata": {},
   "outputs": [],
   "source": []
  }
 ],
 "metadata": {
  "kernelspec": {
   "display_name": "Python 3 (ipykernel)",
   "language": "python",
   "name": "python3"
  },
  "language_info": {
   "codemirror_mode": {
    "name": "ipython",
    "version": 3
   },
   "file_extension": ".py",
   "mimetype": "text/x-python",
   "name": "python",
   "nbconvert_exporter": "python",
   "pygments_lexer": "ipython3",
   "version": "3.9.12"
  }
 },
 "nbformat": 4,
 "nbformat_minor": 5
}
