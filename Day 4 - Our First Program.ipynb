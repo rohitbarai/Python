{
 "cells": [
  {
   "cell_type": "markdown",
   "id": "fe1727e5",
   "metadata": {},
   "source": [
    "# Day4 - Our First Program"
   ]
  },
  {
   "cell_type": "code",
   "execution_count": 1,
   "id": "a924d96e",
   "metadata": {},
   "outputs": [
    {
     "name": "stdout",
     "output_type": "stream",
     "text": [
      "Hello Wordl\n"
     ]
    }
   ],
   "source": [
    "print('Hello Wordl')"
   ]
  },
  {
   "cell_type": "code",
   "execution_count": 2,
   "id": "648311fd",
   "metadata": {},
   "outputs": [
    {
     "name": "stdout",
     "output_type": "stream",
     "text": [
      "Hello Wordl 5\n"
     ]
    }
   ],
   "source": [
    "print('Hello Wordl', 5)"
   ]
  },
  {
   "cell_type": "code",
   "execution_count": 3,
   "id": "35e0906f",
   "metadata": {},
   "outputs": [
    {
     "name": "stdout",
     "output_type": "stream",
     "text": [
      "5\n"
     ]
    }
   ],
   "source": [
    "print(5)"
   ]
  },
  {
   "cell_type": "code",
   "execution_count": 4,
   "id": "1749d78c",
   "metadata": {},
   "outputs": [
    {
     "name": "stdout",
     "output_type": "stream",
     "text": [
      "Bye\n"
     ]
    }
   ],
   "source": [
    "print('Bye')"
   ]
  },
  {
   "cell_type": "code",
   "execution_count": 5,
   "id": "c71c8cba",
   "metadata": {},
   "outputs": [
    {
     "name": "stdout",
     "output_type": "stream",
     "text": [
      "221\n"
     ]
    }
   ],
   "source": [
    "print(17*13)"
   ]
  },
  {
   "cell_type": "code",
   "execution_count": null,
   "id": "d5e80c7b",
   "metadata": {},
   "outputs": [],
   "source": []
  }
 ],
 "metadata": {
  "kernelspec": {
   "display_name": "Python 3 (ipykernel)",
   "language": "python",
   "name": "python3"
  },
  "language_info": {
   "codemirror_mode": {
    "name": "ipython",
    "version": 3
   },
   "file_extension": ".py",
   "mimetype": "text/x-python",
   "name": "python",
   "nbconvert_exporter": "python",
   "pygments_lexer": "ipython3",
   "version": "3.9.12"
  }
 },
 "nbformat": 4,
 "nbformat_minor": 5
}
